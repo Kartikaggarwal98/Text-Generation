{
 "cells": [
  {
   "cell_type": "code",
   "execution_count": 1,
   "metadata": {
    "collapsed": false
   },
   "outputs": [
    {
     "name": "stderr",
     "output_type": "stream",
     "text": [
      "Using TensorFlow backend.\n"
     ]
    }
   ],
   "source": [
    "from __future__ import print_function\n",
    "from keras.models import Sequential\n",
    "from keras.layers import Dense, Activation, LSTM\n",
    "from keras.optimizers import RMSprop\n",
    "from keras.utils.data_utils import get_file\n",
    "\n",
    "import numpy as np\n",
    "import random\n",
    "import sys\n",
    "import io"
   ]
  },
  {
   "cell_type": "code",
   "execution_count": 2,
   "metadata": {
    "collapsed": false
   },
   "outputs": [
    {
     "name": "stdout",
     "output_type": "stream",
     "text": [
      "corpus length:  600893\n"
     ]
    }
   ],
   "source": [
    "path= get_file('nietzsche.txt',origin='https://s3.amazonaws.com/text-datasets/nietzsche.txt')\n",
    "text= io.open(path, encoding='utf-8').read().lower()\n",
    "print ('corpus length: ', len(text))"
   ]
  },
  {
   "cell_type": "code",
   "execution_count": 3,
   "metadata": {
    "collapsed": false
   },
   "outputs": [
    {
     "name": "stdout",
     "output_type": "stream",
     "text": [
      "total chars:  57\n"
     ]
    }
   ],
   "source": [
    "chars= sorted(list(set(text)))\n",
    "print ('total chars: ', len(chars))"
   ]
  },
  {
   "cell_type": "code",
   "execution_count": 4,
   "metadata": {
    "collapsed": true
   },
   "outputs": [],
   "source": [
    "char_indices= dict((c,i) for i,c in enumerate(chars))\n",
    "indices_char= dict((i,c) for i,c in enumerate(chars))"
   ]
  },
  {
   "cell_type": "code",
   "execution_count": 5,
   "metadata": {
    "collapsed": false
   },
   "outputs": [
    {
     "name": "stdout",
     "output_type": "stream",
     "text": [
      "nb sequences:  200285\n"
     ]
    }
   ],
   "source": [
    "max_len=40\n",
    "step=3\n",
    "sentences=[]\n",
    "next_chars=[]\n",
    "for i in range(0,len(text)-max_len, step):\n",
    "    sentences.append(text[i:i+max_len])\n",
    "    next_chars.append(text[i+max_len])\n",
    "print ('nb sequences: ', len(sentences))"
   ]
  },
  {
   "cell_type": "code",
   "execution_count": 6,
   "metadata": {
    "collapsed": false
   },
   "outputs": [
    {
     "name": "stdout",
     "output_type": "stream",
     "text": [
      "Vectorization....\n",
      "(200285, 40, 57) (200285, 57)\n"
     ]
    }
   ],
   "source": [
    "print ('Vectorization....')\n",
    "x=np.zeros((len(sentences), max_len, len(chars)), dtype=np.bool)\n",
    "y=np.zeros((len(sentences),len(chars)),dtype=np.bool)\n",
    "print (x.shape,y.shape)"
   ]
  },
  {
   "cell_type": "code",
   "execution_count": 7,
   "metadata": {
    "collapsed": false
   },
   "outputs": [],
   "source": [
    "for i,sentence in enumerate(sentences):\n",
    "    for t,char in  enumerate(sentence):\n",
    "        x[i,t,char_indices[char]]=1\n",
    "    y[i,char_indices[next_chars[i]]] = 1\n"
   ]
  },
  {
   "cell_type": "code",
   "execution_count": 8,
   "metadata": {
    "collapsed": true
   },
   "outputs": [],
   "source": [
    "model=Sequential()\n",
    "model.add(LSTM(128, input_shape=(max_len,len(chars))))\n",
    "model.add(Dense(len(chars)))\n",
    "model.add(Activation('softmax'))\n",
    "optimizer= RMSprop(lr=0.01)\n",
    "model.compile(loss='categorical_crossentropy', optimizer=optimizer)\n"
   ]
  },
  {
   "cell_type": "code",
   "execution_count": null,
   "metadata": {
    "collapsed": true
   },
   "outputs": [],
   "source": [
    "def sample(preds,temperature=1):\n",
    "    preds=np.asarray(preds).astype('float64')\n",
    "    preds=np.log(preds)/temperature\n",
    "    print (preds)\n",
    "    exp_preds=np.exp(preds)\n",
    "    print exp_preds\n",
    "    probas=np.random.multinomial(1,preds,1)\n",
    "    return \n",
    "    return np.argmax(probas)"
   ]
  },
  {
   "cell_type": "code",
   "execution_count": 10,
   "metadata": {
    "collapsed": false
   },
   "outputs": [
    {
     "name": "stdout",
     "output_type": "stream",
     "text": [
      "Epoch 1/1\n",
      "   640/200285 [..............................] - ETA: 27:38:00 - loss: 3.7554"
     ]
    },
    {
     "name": "stderr",
     "output_type": "stream",
     "text": [
      "/usr/local/lib/python3.6/dist-packages/keras/callbacks.py:116: UserWarning: Method on_batch_end() is slow compared to the batch update (0.453544). Check your callbacks.\n",
      "  % delta_t_median)\n"
     ]
    },
    {
     "name": "stdout",
     "output_type": "stream",
     "text": [
      "200285/200285 [==============================] - 417s 2ms/step - loss: 1.9884\n",
      "Generated with seed: \"an eighty thousand years old,\n",
      "we should \"\n",
      "(57,)\n",
      "[  1.05222245e-03   1.64155941e-03   2.00016162e-04   5.44730527e-03\n",
      "   1.31998197e-04   1.62742144e-04   2.28950463e-04   1.16799714e-03\n",
      "   6.98311778e-04   7.66837271e-04   4.28954954e-05   1.92217587e-04\n",
      "   1.52955385e-04   7.34341957e-05   1.39585914e-04   9.01305320e-05\n",
      "   3.91679096e-05   1.82263775e-05   5.03812298e-05   6.96826974e-05\n",
      "   4.87433921e-04   3.64427629e-04   2.90805940e-04   2.72143545e-04\n",
      "   7.89426849e-05   5.46885203e-05   9.46414657e-05   1.17685504e-01\n",
      "   6.18634596e-02   2.75281928e-02   4.70154956e-02   3.25275250e-02\n",
      "   4.41162921e-02   1.77386869e-02   3.56434286e-02   7.90821835e-02\n",
      "   1.88642740e-03   7.43590482e-03   2.07994934e-02   4.51101549e-02\n",
      "   4.58010733e-02   7.60133490e-02   4.92234677e-02   1.11962471e-03\n",
      "   3.43914106e-02   4.56090719e-02   1.33934587e-01   1.16051110e-02\n",
      "   9.08215903e-03   3.01196724e-02   1.17117877e-03   9.07911919e-03\n",
      "   4.07366897e-04   7.42495914e-08   8.05149654e-08   1.10266690e-07\n",
      "   5.46198180e-08]\n"
     ]
    }
   ],
   "source": [
    "model.fit(x,y, batch_size=128, epochs=1)\n",
    "start_index= random.randint(0,len(text)-max_len-1)\n",
    "sentence=text[start_index:start_index+max_len]\n",
    "print ('Generated with seed: \"'+sentence + '\"')\n",
    "x_pred= np.zeros((1,max_len,len(chars)))\n",
    "for t, char in enumerate(sentence):\n",
    "        x_pred[0,t,char_indices[char]]=1.\n",
    "preds=model.predict(x_pred, verbose=0)[0]\n",
    "print (preds.shape)\n",
    "print (preds)"
   ]
  },
  {
   "cell_type": "code",
   "execution_count": null,
   "metadata": {
    "collapsed": true
   },
   "outputs": [],
   "source": [
    "for i in range(1,50):\n",
    "    print('-'*50)\n",
    "    print ('iteration: ',i)\n",
    "    model.fit(x,y, batch_size=128, epochs=1)\n",
    "    start_index= random.randint(0,len(text)-max_len-1)\n",
    "    \n",
    "    for diversity in [0.2,0.5,1.0,1.2]:\n",
    "        print('Diversity: ',diversity)\n",
    "        generated=''\n",
    "        sentence=text[start_index:start_index+max_len]\n",
    "        generated+=sentence\n",
    "        print ('Generated with seed: \"'+sentence + '\"')\n",
    "        sys.stdout.write(generated)\n",
    "        \n",
    "        for i in range(400):\n",
    "            x_pred= np.zeros((1,max_len,len(chars)))\n",
    "            for t, char in enumerate(sentence):\n",
    "                x_pred[0,t,char_indices[char]]=1.\n",
    "            \n",
    "            preds=model.predict(x_pred, verbose=0)[0]\n",
    "            next_index= sample(preds, diversity)\n",
    "            next_char=indices_char[next_index]\n",
    "            \n",
    "            generated+=next_char\n",
    "            sentence=sentence[1:]+next_char\n",
    "            \n",
    "            sys.stdout.write(next_char)\n",
    "            sys.stdout.flush()\n",
    "        print()"
   ]
  }
 ],
 "metadata": {
  "kernelspec": {
   "display_name": "Python 3",
   "language": "python",
   "name": "python3"
  },
  "language_info": {
   "codemirror_mode": {
    "name": "ipython",
    "version": 3
   },
   "file_extension": ".py",
   "mimetype": "text/x-python",
   "name": "python",
   "nbconvert_exporter": "python",
   "pygments_lexer": "ipython3",
   "version": "3.6.3"
  }
 },
 "nbformat": 4,
 "nbformat_minor": 2
}
